{
 "cells": [
  {
   "cell_type": "code",
   "execution_count": 10,
   "id": "201129ca-daa5-427d-9ec5-f6f24418334a",
   "metadata": {},
   "outputs": [],
   "source": [
    "import sys\n",
    "sys.path.append(\"../../\")\n",
    "from src.basenet import BaseNetDatabase, BaseNetCompiler, BaseNetModel\n",
    "from tensorflow import keras\n",
    "from IPython.display import display, Image"
   ]
  },
  {
   "cell_type": "markdown",
   "id": "2bff1322-0aa5-482f-b6e7-ce57726d39cc",
   "metadata": {},
   "source": [
    "# BaseNetModel\n",
    "\n",
    "## Advanced use tutorial\n",
    "\n",
    "In this JuPyter Notebook we will learn further uses and specifications of the ``BaseNetModel`` Class.\n",
    "\n",
    "### Contents\n",
    "\n",
    "1. About ``BaseNetModel``.\n",
    "2. Building a ``BaseNetModel``.\n",
    "    1. Build from ``keras`` models.\n",
    "    2. Build from ``BaseNetCompiler``.\n",
    "    3. Load and save models.\n",
    "3. Visualize your model.\n",
    "4. Linking ``BaseNetDatabase`` to ``BaseNetModel``.\n",
    "5. Fitting a ``BaseNetModel``.\n",
    "6. Obtaining the ``BaseNetModel`` performance.\n",
    "7. Using ``BaseNetModel`` in production.\n",
    "\n",
    "8. Avoiding ThreadLocking in training (limited).\n",
    "9. Acessing ``BaseNetResults``.\n",
    "\n",
    "\n",
    "## 1. About BaseNetModel.\n",
    "\n",
    "The BaseNetModel class provides a wrapper for the tf.keras.model API with easier use. When initialized,\n",
    "it initializes a breech of databases in its attribute 'breech'. If we provide a compiler, the model will be\n",
    "built from the compiler; however, if we provide a tf.keras.model, the compiler is ignored and the model is built\n",
    "from the provided tf.keras.model.\n",
    "\n",
    "To add a database to the model, we can use the method ``BaseNetModel.add_database()`` that takes a BaseNetDatabase as\n",
    "input.\n",
    "\n",
    "The class contains load and save methods to store the compilers (``.cpl`` files) and models (``.h5`` files) in the same\n",
    "directory.\n",
    "\n",
    "We also provide a ``BaseNetModel.fit()`` method that can create a separate process for training. The original framework\n",
    "does not include this feature:\n",
    "\n",
    "*   The ``BaseNetModel.fit()`` method takes as input the index of the loaded database via\n",
    "``BaseNetModel.add_database()`` method and takes the train and validation subsets to fit the model.\n",
    "*   If the training process should not block the main process, the parameters 'avoid_lock' must be set to True,\n",
    "in that case, another process will take over the fitting tf.keras.model.fit() method and the information will\n",
    "be updated in the return class: BaseNetResults.\n",
    "*   In case we avoid the main process to be locked with the 'avoid_lock' feature, we will need to recover the\n",
    "tf.keras.model with the ``BaseNetModel.recover()`` method once the training is finished (check\n",
    "``BaseNetResults.is_training``).\n",
    "\n",
    "We can also evaluate the performance of the database with the BaseNetModel.evaluate() method, that makes use of the\n",
    "test subset.\n",
    "\n",
    "We can also predict the output of a certain input with the BaseNetModel.predict() method.\n",
    "\n",
    "We can also visualize the model with the ``BaseNetModel.print()`` method in a PNG image.\n",
    "\n",
    "The following attributes can be found in a regular ``BaseNetModel``:\n",
    "\n",
    "* :compiler:: It is the given compiler (BaseNetCompiler).\n",
    "* :is_valid:: Tells if a model is valid or not (bool).\n",
    "* :is_compiled:: Tells if a model is compiled or not (bool).\n",
    "* :name:: The name of the model (str).\n",
    "* :breech:: The list of the loaded databases (list[BaseNetDatabase]).\n",
    "* :model:: It is the compiled keras model (tf.keras.model).\n",
    "* :summary:: The tf.keras.model information (str).\n",
    "    \n",
    "## 2. Building a BaseNetModel.\n",
    "\n",
    "    BaseNetModel(self, \n",
    "                 compiler=None, \n",
    "                 model: keras.Model = None, \n",
    "                 name: str = '', \n",
    "                 verbose: bool = False):\n",
    "\n",
    "    The BaseNetModel implements an API that makes use of keras and tensorflow to build Deep Learning Models.\n",
    "    :param compiler: BaseNetCompiler object to build the model.\n",
    "    :param model: If a keras.model is already compiled, you can import it in the model parameter, so the compiler won't be used during the construction.\n",
    "    :param name: The name of the model.\n",
    "    :param verbose: Shows relevant information for debugging pruposes.\n"
   ]
  },
  {
   "cell_type": "code",
   "execution_count": 2,
   "id": "8529b362-9aa5-4a17-9205-e07f2518fddf",
   "metadata": {},
   "outputs": [],
   "source": [
    "def __init__(self, compiler=None, model: keras.Model = None, name: str = '', verbose: bool = False):\n",
    "    [...]"
   ]
  },
  {
   "cell_type": "markdown",
   "id": "d7a60d91-ded1-40f8-8689-d888c2c97735",
   "metadata": {},
   "source": [
    "Providing a ``BaseNetCompiler`` is the proper way to build a ``BaseNetModel``, it will store all the relevant information of the Model. However, if we decide to build a ``BaseNetModel`` from a\n",
    "``Keras`` model, we will miss some relevant information.\n",
    "\n",
    "### 2.1. Build from ``Keras`` models.\n",
    "\n",
    "You can build a ``BaseNetModel`` with a ``Keras`` model. Let's build a MLP in the Keras API:"
   ]
  },
  {
   "cell_type": "code",
   "execution_count": 3,
   "id": "eaffa8a8-f268-4693-879d-f6a34f63ca6f",
   "metadata": {},
   "outputs": [
    {
     "name": "stdout",
     "output_type": "stream",
     "text": [
      "Model: \"sequential\"\n",
      "_________________________________________________________________\n",
      " Layer (type)                Output Shape              Param #   \n",
      "=================================================================\n",
      " dense (Dense)               (None, 10)                2570      \n",
      "                                                                 \n",
      " dense_1 (Dense)             (None, 1)                 11        \n",
      "                                                                 \n",
      "=================================================================\n",
      "Total params: 2,581\n",
      "Trainable params: 2,581\n",
      "Non-trainable params: 0\n",
      "_________________________________________________________________\n"
     ]
    }
   ],
   "source": [
    "model = keras.Sequential(\n",
    "    [\n",
    "        keras.layers.Input(256),\n",
    "        keras.layers.Dense(10, activation=\"relu\"),\n",
    "        keras.layers.Dense(1)\n",
    "    ]\n",
    ")\n",
    "model.compile(loss = 'categorical_crossentropy', optimizer = 'adam', metrics = ['accuracy'])\n",
    "model.summary()"
   ]
  },
  {
   "cell_type": "markdown",
   "id": "dab281bc-b20c-49d4-be44-61c2edccaed8",
   "metadata": {},
   "source": [
    "Now, we build the ``BaseNetModel`` from the ``Keras`` model:"
   ]
  },
  {
   "cell_type": "code",
   "execution_count": 4,
   "id": "6e37c85f-5fb4-48ca-975b-dda733baeee8",
   "metadata": {},
   "outputs": [
    {
     "name": "stdout",
     "output_type": "stream",
     "text": [
      "Model: \"sequential\"\n",
      "_________________________________________________________________\n",
      " Layer (type)                Output Shape              Param #   \n",
      "=================================================================\n",
      " dense (Dense)               (None, 10)                2570      \n",
      "                                                                 \n",
      " dense_1 (Dense)             (None, 1)                 11        \n",
      "                                                                 \n",
      "=================================================================\n",
      "Total params: 2,581\n",
      "Trainable params: 2,581\n",
      "Non-trainable params: 0\n",
      "_________________________________________________________________\n"
     ]
    },
    {
     "data": {
      "text/plain": [
       "Model object with the following parameters:\n",
       "Compiler: None\n",
       "Summary: None"
      ]
     },
     "execution_count": 4,
     "metadata": {},
     "output_type": "execute_result"
    }
   ],
   "source": [
    "bnm = BaseNetModel(model=model)\n",
    "bnm"
   ]
  },
  {
   "cell_type": "markdown",
   "id": "1b9c1d17-3875-43f4-aa69-9e27431c47f8",
   "metadata": {},
   "source": [
    "Note that there is no compiler linked to the model. As there is no ``BaseNetCompiler`` linked to it. However, all the other features are included in this model.\n",
    "\n",
    "### 2.1. Build from ``BaseNetCompiler``.\n",
    "\n",
    "The easiest way to build the model is to use a ``BaseNetCompiler`` using a ``YAML`` file with all the model specification. You should look first at the ``BaseNetCompiler`` advanced tutorial."
   ]
  },
  {
   "cell_type": "code",
   "execution_count": 5,
   "id": "a805612a-265c-46ba-8750-695bebd75995",
   "metadata": {},
   "outputs": [
    {
     "name": "stdout",
     "output_type": "stream",
     "text": [
      "WARNING:tensorflow:There are non-GPU devices in `tf.distribute.Strategy`, not using nccl allreduce.\n"
     ]
    },
    {
     "name": "stderr",
     "output_type": "stream",
     "text": [
      "WARNING:tensorflow:There are non-GPU devices in `tf.distribute.Strategy`, not using nccl allreduce.\n"
     ]
    },
    {
     "name": "stdout",
     "output_type": "stream",
     "text": [
      "INFO:tensorflow:Using MirroredStrategy with devices ('/job:localhost/replica:0/task:0/device:CPU:0',)\n"
     ]
    },
    {
     "name": "stderr",
     "output_type": "stream",
     "text": [
      "INFO:tensorflow:Using MirroredStrategy with devices ('/job:localhost/replica:0/task:0/device:CPU:0',)\n"
     ]
    },
    {
     "data": {
      "text/plain": [
       "Model object with the following parameters:\n",
       "Compiler: Compiler with 1 layers, options:\n",
       "{'loss': 'categorical_crossentropy', 'optimizer': 'adam'}\n",
       "Summary: Model: \"model_in_serie\"\n",
       "_________________________________________________________________\n",
       " Layer (type)                Output Shape              Param #   \n",
       "=================================================================\n",
       " input_2 (InputLayer)        [(None, 10)]              0         \n",
       "                                                                 \n",
       " dense_2 (Dense)             (None, 32)                352       \n",
       "                                                                 \n",
       " output (Dense)              (None, 10)                330       \n",
       "                                                                 \n",
       "=================================================================\n",
       "Total params: 682\n",
       "Trainable params: 682\n",
       "Non-trainable params: 0\n",
       "_________________________________________________________________"
      ]
     },
     "execution_count": 5,
     "metadata": {},
     "output_type": "execute_result"
    }
   ],
   "source": [
    "yaml_path = './compilers/example2.yaml'\n",
    "bnm = BaseNetCompiler.build_from_yaml(yaml_path).compile()\n",
    "bnm"
   ]
  },
  {
   "cell_type": "markdown",
   "id": "b9bc2088-42cb-4b51-9bfb-b27a39b17402",
   "metadata": {},
   "source": [
    "It only will take a line of code, but several lines in the ``YAML`` file. This way it is very easy to compile models from one workspace to another and share your model with other co-workers.\n",
    "\n",
    "### 2.3. Save and load models.\n",
    "\n",
    "You can load a ``BaseNetModel`` with the ``BaseNetModel.load()`` method and save it with the ``BaseNetModel.save()`` method:"
   ]
  },
  {
   "cell_type": "code",
   "execution_count": 6,
   "id": "c42846f4-5d26-45e4-b3be-ee31a65a9dd4",
   "metadata": {},
   "outputs": [],
   "source": [
    "@staticmethod\n",
    "def load(model_path: str, compiler_path: str = ''):\n",
    "    \"\"\"\n",
    "    This function loads a pair: .cpl (BaseNetCompiler) and .h5 (keras.model) format and builds a BaseNetModel from\n",
    "    the loaded parameters.\n",
    "    :param model_path: Path where the keras.model is being loaded from the file system.\n",
    "    :param compiler_path: Path where the BaseNetCompiler is being loaded from the file system.\n",
    "    :return: The BaseNetModel with the given model path.\n",
    "    \"\"\"\n",
    "\n",
    "def save(self, model_path: str, compiler_path: str = '') -> bool:\n",
    "    \"\"\"\n",
    "    This function saves the BaseNetModel in a pair: .cpl (BaseNetCompiler) and .h5 (keras.model) format.\n",
    "    :param model_path: Path where the keras.model is being saved in the file system.\n",
    "    :param compiler_path: Path where the BaseNetCompiler is being saved in the file system.\n",
    "    :return: True if the saving was successful. False if not.\n",
    "    \"\"\""
   ]
  },
  {
   "cell_type": "markdown",
   "id": "41454d59-1f44-4c24-9d5b-dc12a288acd8",
   "metadata": {},
   "source": [
    "If you provide the ``model_path`` it will automatically look for the compiler with the same name in the same directory. If you provide a ``compiler_path`` it will look for the compiler there. Normally, you want to keep both files together (in the same directory), so it will be managed automatically and only provide the ``model_path`` route.\n",
    "\n",
    "Let's load and save the current model:"
   ]
  },
  {
   "cell_type": "code",
   "execution_count": 7,
   "id": "a3459fc5-43e3-4610-bae0-e84c354b9ec6",
   "metadata": {},
   "outputs": [
    {
     "name": "stdout",
     "output_type": "stream",
     "text": [
      "Model: \"model_in_serie\"\n",
      "_________________________________________________________________\n",
      " Layer (type)                Output Shape              Param #   \n",
      "=================================================================\n",
      " input_4 (InputLayer)        [(None, 10)]              0         \n",
      "                                                                 \n",
      " dense_13 (Dense)            (None, 32)                352       \n",
      "                                                                 \n",
      " output (Dense)              (None, 10)                330       \n",
      "                                                                 \n",
      "=================================================================\n",
      "Total params: 682\n",
      "Trainable params: 682\n",
      "Non-trainable params: 0\n",
      "_________________________________________________________________\n"
     ]
    },
    {
     "data": {
      "text/plain": [
       "Model object with the following parameters:\n",
       "Compiler: Compiler with 1 layers, options:\n",
       "{'loss': 'categorical_crossentropy', 'optimizer': 'adam'}\n",
       "Summary: None"
      ]
     },
     "execution_count": 7,
     "metadata": {},
     "output_type": "execute_result"
    }
   ],
   "source": [
    "model_path = './models/test_model.h5'\n",
    "bnm.save(model_path)\n",
    "bnm2 = BaseNetModel.load(model_path)\n",
    "bnm2"
   ]
  },
  {
   "cell_type": "markdown",
   "id": "cf2a653d-acf0-4613-9bc5-df17f595416b",
   "metadata": {},
   "source": [
    "## 3. Visualize your model.\n",
    "\n",
    "You can visualize your model calling the ```.print()``` method. The method takes an argument with the **directory** path where a ``PNG`` image will be stored. "
   ]
  },
  {
   "cell_type": "code",
   "execution_count": 14,
   "id": "2ce80220-9563-4555-93be-d342e50840a2",
   "metadata": {},
   "outputs": [
    {
     "name": "stdout",
     "output_type": "stream",
     "text": [
      "Model stored as ./other/test_model.png:\n",
      "\n"
     ]
    },
    {
     "data": {
      "image/png": "[encoded data removed]",
      "text/plain": [
       "<IPython.core.display.Image object>"
      ]
     },
     "execution_count": 14,
     "metadata": {},
     "output_type": "execute_result"
    }
   ],
   "source": [
    "image_path = './other'\n",
    "bnm2.print(image_path)\n",
    "print(f'Model stored as {image_path}/{bnm2.name}.png:\\n')\n",
    "Image(f\"{image_path}/{bnm2.name}.png\")"
   ]
  },
  {
   "cell_type": "markdown",
   "id": "2a78ffd0-22f7-4e26-a0b1-fbf954ef73fe",
   "metadata": {},
   "source": [
    "## 4. Linking ``BaseNetDatabase`` to ``BaseNetModel``.\n",
    "\n",
    "You must link a BaseNetDatabase to a model in order to make the Database available to the model."
   ]
  },
  {
   "cell_type": "code",
   "execution_count": null,
   "id": "1d506b0e-1d4e-4ee9-add6-334d7f1291b5",
   "metadata": {},
   "outputs": [],
   "source": []
  },
  {
   "cell_type": "code",
   "execution_count": null,
   "id": "8f86fb46-2024-4392-be0d-5988fde1e993",
   "metadata": {},
   "outputs": [],
   "source": []
  },
  {
   "cell_type": "code",
   "execution_count": null,
   "id": "de0b714b-a672-4dc8-9b72-fc5efe63960f",
   "metadata": {},
   "outputs": [],
   "source": []
  },
  {
   "cell_type": "code",
   "execution_count": null,
   "id": "be0a719d-b45d-40cb-a173-141e37495ce7",
   "metadata": {},
   "outputs": [],
   "source": []
  },
  {
   "cell_type": "code",
   "execution_count": null,
   "id": "88821c97-60a5-40d8-b762-bc74c29c2ea8",
   "metadata": {},
   "outputs": [],
   "source": []
  },
  {
   "cell_type": "code",
   "execution_count": null,
   "id": "9f0c22e1-4d4e-4ea2-8ac1-c57b70cf262f",
   "metadata": {},
   "outputs": [],
   "source": []
  },
  {
   "cell_type": "code",
   "execution_count": null,
   "id": "59c5e501-e403-43fb-ba5e-1408c2824bf3",
   "metadata": {},
   "outputs": [],
   "source": []
  },
  {
   "cell_type": "markdown",
   "id": "5cf42015-3d00-4673-bd6f-872a5591d271",
   "metadata": {},
   "source": [
    "\n",
    "4. Fitting a ``BaseNetModel``.\n",
    "5. Obtaining the ``BaseNetModel`` performance.\n",
    "6. Using ``BaseNetModel`` in production.\n",
    "\n",
    "7. Avoiding ThreadLocking in training (limited).\n",
    "8. Acessing ``BaseNetResults``."
   ]
  },
  {
   "cell_type": "code",
   "execution_count": null,
   "id": "2ffc0dd4-8658-4eef-8906-e303ea0debe9",
   "metadata": {},
   "outputs": [],
   "source": []
  }
 ],
 "metadata": {
  "kernelspec": {
   "display_name": "venv1.9.1",
   "language": "python",
   "name": "venv1.9.1"
  },
  "language_info": {
   "codemirror_mode": {
    "name": "ipython",
    "version": 3
   },
   "file_extension": ".py",
   "mimetype": "text/x-python",
   "name": "python",
   "nbconvert_exporter": "python",
   "pygments_lexer": "ipython3",
   "version": "3.10.9"
  }
 },
 "nbformat": 4,
 "nbformat_minor": 5
}
