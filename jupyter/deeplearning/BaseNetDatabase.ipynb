{
 "cells": [
  {
   "cell_type": "markdown",
   "id": "ff67e152-ef99-4b1c-838b-f52895312a25",
   "metadata": {},
   "source": [
    "# BaseNetDatabase\n",
    "\n",
    "## Advanced use tutorial\n",
    "\n",
    "In this JuPyter Notebook we will learn further uses and specifications of the ``BaseNetDatabase`` Class.\n",
    "\n",
    "* "
   ]
  },
  {
   "cell_type": "code",
   "execution_count": null,
   "id": "34330b07-c513-4be7-8dc7-88025ab45958",
   "metadata": {},
   "outputs": [],
   "source": []
  }
 ],
 "metadata": {
  "kernelspec": {
   "display_name": "Python 3 (ipykernel)",
   "language": "python",
   "name": "python3"
  },
  "language_info": {
   "codemirror_mode": {
    "name": "ipython",
    "version": 3
   },
   "file_extension": ".py",
   "mimetype": "text/x-python",
   "name": "python",
   "nbconvert_exporter": "python",
   "pygments_lexer": "ipython3",
   "version": "3.9.11"
  }
 },
 "nbformat": 4,
 "nbformat_minor": 5
}
