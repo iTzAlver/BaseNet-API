{
 "cells": [
  {
   "cell_type": "markdown",
   "id": "d529e394-0898-4a58-bc82-2a1de74d44f7",
   "metadata": {},
   "source": [
    "# BaseNetApi\n",
    "\n",
    "On this set of JuPyter Notebooks we will learn the BaseNetApi from skratch.\n",
    "\n",
    "We will start with some basic imports:"
   ]
  },
  {
   "cell_type": "code",
   "execution_count": 1,
   "id": "b00bb4c3-ca79-4e74-be5d-169d12c0d325",
   "metadata": {},
   "outputs": [
    {
     "data": {
      "text/plain": [
       "'1.6.0'"
      ]
     },
     "execution_count": 1,
     "metadata": {},
     "output_type": "execute_result"
    }
   ],
   "source": [
    "import os\n",
    "from IPython.display import Image\n",
    "from src.basenet import BaseNetModel, BaseNetDatabase, BaseNetCompiler, __version__ \n",
    "__version__"
   ]
  },
  {
   "cell_type": "markdown",
   "id": "3abded64-a98c-46ff-ab57-05ece182e570",
   "metadata": {},
   "source": [
    "## BaseNetDataset Tutorial\n",
    "\n",
    "**BaseNet** can work with four different type of datasets:\n",
    "\n",
    "* TensorFlow Datasets.\n",
    "* Numpy Datasets.\n",
    "* Pandas Datasets.\n",
    "* Raw list datasets.\n",
    "\n",
    "The API will transform this datasets into their own class Dataset: ``BaseNetDataset``.\n",
    "\n",
    "Imagine having your own function that loads your own NP, TF, PD stored in your db path:\n",
    "\n",
    "In this tutorial, we will use the ``TensorFlow MNIST dataset`` as an example.\n"
   ]
  },
  {
   "cell_type": "code",
   "execution_count": 2,
   "id": "a1584080-7da2-4238-8b9e-498c6b84c693",
   "metadata": {},
   "outputs": [],
   "source": [
    "import tensorflow as tf\n",
    "import pandas as pd\n",
    "import numpy as np\n",
    "import pickle\n",
    "os.environ['TF_CPP_MIN_LOG_LEVEL'] = '3'\n",
    "\n",
    "# Paths of the different datasets.\n",
    "my_database_paths = {'numpy':      './db/np_ds.npy', \n",
    "                     'tensorflow': './db/tf_ds', \n",
    "                     'pandas':     './db/pd_ds.csv', \n",
    "                     'raw':        './db/raw_ds'}\n",
    "\n",
    "# Loads a Numpy Dataset to 'x' and 'y' ndarray values.\n",
    "def load_my_numpy_data(path):\n",
    "    with open(path, 'rb') as file:\n",
    "        x = np.load(file)\n",
    "        y = np.load(file)\n",
    "    return x, y\n",
    "\n",
    "# Loads a Pandas CSV Dataset to 'x' and 'y' list values.\n",
    "def load_my_pandas_data(path):\n",
    "    pd_df = pd.read_csv(path)\n",
    "    return list(pd_df.x), list(pd_df.y)\n",
    "    \n",
    "# Loads a TensorFlow Dataset to 'x' and 'y' eager tensor or ndarray values.\n",
    "def load_my_tf_data(path, to_numpy: bool = False):\n",
    "    tf_dset = tf.data.Dataset.load(path)\n",
    "    x = list()\n",
    "    y = list()\n",
    "    for batched in tf_dset:\n",
    "        x.append(batched['image'])\n",
    "        y.append(batched['label'])\n",
    "    x, y = tf.convert_to_tensor(x), tf.convert_to_tensor(y)\n",
    "    if to_numpy:\n",
    "        return x.numpy(), y.numpy()\n",
    "    return x, y"
   ]
  },
  {
   "cell_type": "markdown",
   "id": "10d73ccf-8557-4d4a-88e8-88dfd6c7b7da",
   "metadata": {},
   "source": [
    "Now we can load the Datasets into the BaseNetDataset Class and save it as a BaseNetDatabase.\n",
    "\n",
    "You can also load a BaseNetDatabase.\n",
    "\n",
    "### For NumPy"
   ]
  },
  {
   "cell_type": "code",
   "execution_count": 3,
   "id": "d2fc32bc-19aa-4937-ae0a-21933350b5b1",
   "metadata": {},
   "outputs": [
    {
     "name": "stdout",
     "output_type": "stream",
     "text": [
      "y shape:  (60000,)\n",
      "x shape:  (60000, 28, 28, 1)\n"
     ]
    }
   ],
   "source": [
    "my_data_x, my_data_y = load_my_numpy_data(my_database_paths['numpy'])\n",
    "print('y shape: ', my_data_y.shape)\n",
    "print('x shape: ', my_data_x.shape)"
   ]
  },
  {
   "cell_type": "markdown",
   "id": "31c74e02-2750-4e50-8452-479004d9ed02",
   "metadata": {},
   "source": [
    "### For TensorFlow"
   ]
  },
  {
   "cell_type": "code",
   "execution_count": 4,
   "id": "ff4d4660-a375-4204-9cc6-0081af6ef08c",
   "metadata": {},
   "outputs": [
    {
     "name": "stdout",
     "output_type": "stream",
     "text": [
      "y shape:  (60000,)\n",
      "x shape:  (60000, 28, 28, 1)\n"
     ]
    }
   ],
   "source": [
    "my_data_x, my_data_y = load_my_tf_data(my_database_paths['tensorflow'])\n",
    "print('y shape: ', my_data_y.shape)\n",
    "print('x shape: ', my_data_x.shape)"
   ]
  },
  {
   "cell_type": "markdown",
   "id": "1b17faba-eeba-4fc4-8b29-83861bbd3c05",
   "metadata": {},
   "source": [
    "### For Pandas\n",
    "\n",
    "**Note**: In Pandas, we only took 2000 elements of the MNIST tutorial Dataset. As Pandas is not optimal for image processing."
   ]
  },
  {
   "cell_type": "code",
   "execution_count": 5,
   "id": "3a07d0e3-7658-4527-9c02-921aa3e004be",
   "metadata": {},
   "outputs": [
    {
     "name": "stdout",
     "output_type": "stream",
     "text": [
      "y shape:  2000\n",
      "x shape:  2000\n"
     ]
    }
   ],
   "source": [
    "my_data_x, my_data_y = load_my_pandas_data(my_database_paths['pandas'])\n",
    "print('y shape: ', len(my_data_y))\n",
    "print('x shape: ', len(my_data_x))"
   ]
  },
  {
   "cell_type": "markdown",
   "id": "432e12b8-6424-4ee4-9161-5e73a1dc2fe9",
   "metadata": {},
   "source": [
    "### For BaseNet\n",
    "\n",
    "Now in **BaseNet**, we can build a ``BaseNetDatabase`` with the 'x' and 'y' values extracted from the different type of sources.\n",
    "\n",
    "* First, we create a ``distribution`` that randomly shuffles the data into train, validation and test datasets.\n",
    "* The train data will be used to train the weigths and values of the deep learning models.\n",
    "* The validation data will be used to check that the training process is not overfitting to the training data.\n",
    "* The test data is not used during the training process and is only used to show results.\n",
    "\n",
    "Let's assume we have a Numpy array as raw data."
   ]
  },
  {
   "cell_type": "code",
   "execution_count": 6,
   "id": "8a2bfc4c-f824-4446-9507-ae3ad021ccb9",
   "metadata": {},
   "outputs": [
    {
     "name": "stdout",
     "output_type": "stream",
     "text": [
      "BaseNetDatabase with 60000 instances.\n",
      "Is my Database well built?:  True\n"
     ]
    }
   ],
   "source": [
    "my_data_x, my_data_y = load_my_numpy_data(my_database_paths['numpy'])\n",
    "distribution = {'train': 60, 'test': 5, 'val': 35}\n",
    "mydb = BaseNetDatabase(my_data_x, my_data_y, distribution=distribution, name='My Test MNIST Database With 60000 instances')\n",
    "print(mydb)\n",
    "print('Is my Database well built?: ', mydb.is_valid)"
   ]
  },
  {
   "cell_type": "markdown",
   "id": "c0db81e2-ceba-432f-b16d-28347bb20f22",
   "metadata": {},
   "source": [
    "Now the BaseNetDataset contains 60 000 instances with our data. We can see somne relevant information in the public variables.\n"
   ]
  },
  {
   "cell_type": "code",
   "execution_count": 7,
   "id": "ca4b0a90-f8bc-4092-b332-0c963c494c69",
   "metadata": {},
   "outputs": [
    {
     "name": "stdout",
     "output_type": "stream",
     "text": [
      "Database Name:\t\t My Test MNIST Database With 60000 instances \n",
      "\n",
      "Size of the Database:\t (36000, 21000, 3000) \t (elements)\n",
      "With distribution:\t (60, 35, 5) \t\t (%)\n",
      "With value types:\t ('float32', 'float32')  (x, y)\n"
     ]
    }
   ],
   "source": [
    "print('Database Name:\\t\\t', mydb.name, '\\n\\nSize of the Database:\\t', mydb.size, '\\t (elements)\\nWith distribution:\\t', mydb.distribution, '\\t\\t (%)\\nWith value types:\\t', mydb.dtype, ' (x, y)')"
   ]
  },
  {
   "cell_type": "markdown",
   "id": "d42e031f-68e6-4aba-91b8-ad83b45108b4",
   "metadata": {},
   "source": [
    "We can save our Dataset once built with the ``BaseNetDatabase.save()`` method. And load it with the ``BaseNetDatabase.load()`` method."
   ]
  },
  {
   "cell_type": "code",
   "execution_count": 8,
   "id": "72c93054-a0a6-4a48-ac6b-f0a49dcab74f",
   "metadata": {},
   "outputs": [
    {
     "data": {
      "text/plain": [
       "BaseNetDatabase with 60000 instances."
      ]
     },
     "execution_count": 8,
     "metadata": {},
     "output_type": "execute_result"
    }
   ],
   "source": [
    "mydb.save('./db/mydb.db')\n",
    "BaseNetDatabase.load('./db/mydb.db')"
   ]
  },
  {
   "cell_type": "markdown",
   "id": "fbdee05b-ae1c-40b4-b2f0-42130c938a29",
   "metadata": {},
   "source": [
    "## BaseNetCompiler Tutorial\n",
    "\n",
    "BaseNetCompiler takes the model architecture and builds a BaseNetModel with the given parameters. You can build your BaseNetCompiler from Python code only or a .yaml file. In the following case, we are showing how to create a sequential model with a MLP architecture.\n",
    "\n",
    "The method ``BaseNetCompiler.show_devs()`` show the available devices to train your models; in this case, we should only have a CPU core running in our Notebook, with its default state in ``'Train'``."
   ]
  },
  {
   "cell_type": "code",
   "execution_count": 9,
   "id": "c17e7d04-a276-4063-afc1-1c7bf15ffb7a",
   "metadata": {},
   "outputs": [
    {
     "data": {
      "text/plain": [
       "{'/device:CPU:0': 'Train'}"
      ]
     },
     "execution_count": 9,
     "metadata": {},
     "output_type": "execute_result"
    }
   ],
   "source": [
    "layers = [\n",
    "    {'Dense': ((255,), {})},\n",
    "    {'Dense': ((64,), {'activation': 'relu'})},\n",
    "    {'Dropout': ((0.5,), {})}\n",
    "]\n",
    "\n",
    "my_devs = BaseNetCompiler.show_devs()\n",
    "my_devs"
   ]
  },
  {
   "cell_type": "markdown",
   "id": "1cb6a503-35c6-4654-82a3-92a83850e50e",
   "metadata": {},
   "source": [
    "To create a model compiler, you must call the ``BaseNetCompiler()``. Note that this API uses TensorFlow and Keras to build the models, so you may need to refer to Keras or TensorFlow documentation.\n",
    "\n",
    "    (\n",
    "        io_shape: tuple =        The shape of the input to the model and output to the model (input_shape, output_values)\n",
    "        compile_options: dict =  {'loss': Keras loss function, 'optimizer': Keras optimizer}\n",
    "        devices: dict =          A dictionary with the devices and their role ('Train', 'Idle', 'Other'); you may use the .show_devs() method\n",
    "        layers: list =           A list of layers as previously shown\n",
    "        name: str =              Some name\n",
    "    )\n",
    "    \n",
    "    \n",
    "Later, you can call the ``.compile()`` method to build a ``BaseNetModel`` with the compiler. Note that TensorFlow can do some console vomitting during the process."
   ]
  },
  {
   "cell_type": "code",
   "execution_count": 10,
   "id": "12b97d6e-ac89-4e4e-a025-adf3a76974ce",
   "metadata": {},
   "outputs": [
    {
     "name": "stdout",
     "output_type": "stream",
     "text": [
      "WARNING:tensorflow:There are non-GPU devices in `tf.distribute.Strategy`, not using nccl allreduce.\n",
      "INFO:tensorflow:Using MirroredStrategy with devices ('/job:localhost/replica:0/task:0/device:CPU:0',)\n"
     ]
    },
    {
     "data": {
      "text/plain": [
       "Model object with the following parameters:\n",
       "Compiler: Compiler with 3 layers, options:\n",
       "{'loss': 'categorical_crossentropy', 'optimizer': 'adam'}\n",
       "Summary: Model: \"my_first_model\"\n",
       "_________________________________________________________________\n",
       " Layer (type)                Output Shape              Param #   \n",
       "=================================================================\n",
       " input_1 (InputLayer)        [(None, 28, 28, 1)]       0         \n",
       "                                                                 \n",
       " dense (Dense)               (None, 28, 28, 255)       510       \n",
       "                                                                 \n",
       " dense_1 (Dense)             (None, 28, 28, 64)        16384     \n",
       "                                                                 \n",
       " dropout (Dropout)           (None, 28, 28, 64)        0         \n",
       "                                                                 \n",
       " output (Dense)              (None, 28, 28, 10)        650       \n",
       "                                                                 \n",
       "=================================================================\n",
       "Total params: 17,544\n",
       "Trainable params: 17,544\n",
       "Non-trainable params: 0\n",
       "_________________________________________________________________"
      ]
     },
     "execution_count": 10,
     "metadata": {},
     "output_type": "execute_result"
    }
   ],
   "source": [
    "my_first_model = BaseNetCompiler(\n",
    "    io_shape=((28, 28, 1), 10), \n",
    "    compile_options={'loss': 'categorical_crossentropy', 'optimizer': 'adam'}, \n",
    "    devices=my_devs, \n",
    "    layers=layers,\n",
    "    name='my_first_model'\n",
    ").compile()\n",
    "my_first_model"
   ]
  },
  {
   "cell_type": "markdown",
   "id": "f6e43808-6f56-424d-b130-3bb48ce90999",
   "metadata": {},
   "source": [
    "You can use a ``YAML`` file to build your model. There are two examples of yaml files in the ``yaml_path`` directory. The example1 won't run on this Notebook as there is a GPU specified on the ``YAML`` file."
   ]
  },
  {
   "cell_type": "code",
   "execution_count": 11,
   "id": "0370e221-680f-4502-9efb-06de6d1ae3d1",
   "metadata": {},
   "outputs": [
    {
     "name": "stdout",
     "output_type": "stream",
     "text": [
      "WARNING:tensorflow:There are non-GPU devices in `tf.distribute.Strategy`, not using nccl allreduce.\n",
      "INFO:tensorflow:Using MirroredStrategy with devices ('/job:localhost/replica:0/task:0/device:CPU:0',)\n"
     ]
    }
   ],
   "source": [
    "yaml_path = './compilers/example0.yaml'\n",
    "my_first_model = BaseNetCompiler.build_from_yaml(yaml_path, verbose=True).compile()"
   ]
  },
  {
   "cell_type": "markdown",
   "id": "ef6ecf2a-9e49-4506-84e4-ae360e75e5db",
   "metadata": {},
   "source": [
    "## BaseNetModel Tutorial\n",
    "\n",
    "To link our database to our model, we must use the ``.add_database()`` method. You can add several Databases to your model and train the Database you need in different phases of your training process."
   ]
  },
  {
   "cell_type": "code",
   "execution_count": 12,
   "id": "1a6a3990-9767-44b8-8708-358f58f61653",
   "metadata": {},
   "outputs": [],
   "source": [
    "my_first_model = my_first_model.add_database(mydb)"
   ]
  },
  {
   "cell_type": "markdown",
   "id": "b51ed1a9-1c69-4ef6-88bb-0828281a0bc8",
   "metadata": {},
   "source": [
    "You can see the list of databases in the ``breech`` attribute:"
   ]
  },
  {
   "cell_type": "code",
   "execution_count": 13,
   "id": "61bd5215-f129-4afb-ab5b-ae6b49f59ae7",
   "metadata": {},
   "outputs": [
    {
     "data": {
      "text/plain": [
       "[BaseNetDatabase with 60000 instances.]"
      ]
     },
     "execution_count": 13,
     "metadata": {},
     "output_type": "execute_result"
    }
   ],
   "source": [
    "my_first_model.breech"
   ]
  },
  {
   "cell_type": "markdown",
   "id": "8c154b39-91d2-42c8-ad4b-945e0bc0aae0",
   "metadata": {},
   "source": [
    "Once you build and compile a ``BaseNetModel`` with a ```BaseNetCompiler.compile()``` method, you can make use of all the\n",
    "methods that the ``BaseNetModel`` provides:\n",
    "\n",
    "* ```BaseNetModel.load()```: This method loads a tf.keras.model and the compiler from the given path.\n",
    "* ```BaseNetModel.save()```: This method saves a tf.keras.model and the compiler into the given path.\n",
    "* ```BaseNetModel.print()```: This method renders a ``.png`` image of the model into the given path.\n",
    "* ```BaseNetModel.add_database()```: The ``BaseNetModel`` contains a breech of databases. It is a list with all the loaded\n",
    "databases previously. This method adds a database from a path or from a ```BaseNetDatabase``` object.\n",
    "* ```BaseNetModel.predict()```: Performs a prediction given an input.\n",
    "* ```BaseNetModel.evaluate()```: Evaluates the model with the pointed database test subset.\n",
    "* ```BaseNetModel.fit()```: Trains the model with the pointed database.\n",
    "* ```BaseNetModel.call()```: Merges two models into one. It can be used as a function.\n",
    "\n",
    "At this point, we tested ``load()``, ``save()`` and ``add_database()`` methods. Let's visualize out model with the ``print()`` method:"
   ]
  },
  {
   "cell_type": "code",
   "execution_count": 14,
   "id": "054eb186-90df-4c75-abe0-cb4792913d20",
   "metadata": {},
   "outputs": [
    {
     "name": "stdout",
     "output_type": "stream",
     "text": [
      "Representation at ./my_first_model.png:\n",
      "\n"
     ]
    },
    {
     "data": {
      "image/png": "[encoded data removed]",
      "text/plain": [
       "<IPython.core.display.Image object>"
      ]
     },
     "execution_count": 14,
     "metadata": {},
     "output_type": "execute_result"
    }
   ],
   "source": [
    "my_first_model.print('./')\n",
    "print(f'Representation at ./{my_first_model.name}.png:\\n')\n",
    "Image(f\"./{my_first_model.name}.png\")"
   ]
  },
  {
   "cell_type": "markdown",
   "id": "924d6dd8-1864-4e2e-a1c3-0b8b5e08c2c5",
   "metadata": {},
   "source": [
    "Now that we introduced some of the utilities that ``BaseNetModel`` offers, we jump into the training and predict methods:\n",
    "\n",
    "To train our model, we just need to call the ``fit()`` method:"
   ]
  },
  {
   "cell_type": "code",
   "execution_count": 15,
   "id": "e6da4922-5e9a-44bb-bac4-6c4c19c1a672",
   "metadata": {},
   "outputs": [
    {
     "name": "stdout",
     "output_type": "stream",
     "text": [
      "94/94 [==============================] - 0s 2ms/step\n",
      "Epoch 1/5\n",
      "  1/282 [..............................] - ETA: 13:43 - loss: 213.6341WARNING:tensorflow:Callback method `on_train_batch_end` is slow compared to the batch time (batch time: 0.0046s vs `on_train_batch_end` time: 0.0164s). Check your callbacks.\n",
      "282/282 [==============================] - 6s 11ms/step - loss: 6.6473 - val_loss: 1.1406\n",
      "Epoch 2/5\n",
      "282/282 [==============================] - 2s 6ms/step - loss: 1.4387 - val_loss: 0.9206\n",
      "Epoch 3/5\n",
      "282/282 [==============================] - 2s 7ms/step - loss: 1.2506 - val_loss: 0.8389\n",
      "Epoch 4/5\n",
      "282/282 [==============================] - 2s 7ms/step - loss: 1.1477 - val_loss: 0.7946\n",
      "Epoch 5/5\n",
      "282/282 [==============================] - 2s 7ms/step - loss: 1.0466 - val_loss: 0.7232\n"
     ]
    }
   ],
   "source": [
    "# Ignore the following code for now:\n",
    "# Error before training in the Test Dataset.\n",
    "error = my_first_model.evaluate(0, tf.keras.metrics.categorical_crossentropy)\n",
    "error_before = np.mean(error)\n",
    "# Ignore the previous code for now.\n",
    "\n",
    "results = my_first_model.fit(0, epochs=5, tensorboard=False)"
   ]
  },
  {
   "cell_type": "markdown",
   "id": "a1329623-b9dd-454e-888b-4eb77805ab2d",
   "metadata": {},
   "source": [
    "As you can notice, the ``add_database()`` method already identifies the nature of the labels and builds a binary representation so the Deep Learning model can ingest the data. Note that the\n",
    "original data is a vector of integers. A Deep Learning model does not work with shuch information. To solve it, the API implements an automatic conversion to categorical values.\n",
    "\n",
    "Now, let's check the performance during the training process:"
   ]
  },
  {
   "cell_type": "code",
   "execution_count": 16,
   "id": "0c640969-7b4a-4505-be03-d47addb5b99a",
   "metadata": {},
   "outputs": [
    {
     "data": {
      "text/plain": [
       "[6.647305965423584,\n",
       " 1.4387198686599731,\n",
       " 1.2505954504013062,\n",
       " 1.1477240324020386,\n",
       " 1.0465946197509766]"
      ]
     },
     "execution_count": 16,
     "metadata": {},
     "output_type": "execute_result"
    }
   ],
   "source": [
    "results.get()['loss']"
   ]
  },
  {
   "cell_type": "markdown",
   "id": "b3f3f065-76ad-4244-9c70-288dd9262a36",
   "metadata": {},
   "source": [
    "As we can see, the model is increasing its performance along the epochs. However, we implemented a basic MLP architecture and we can see a overfitting in the model (val_loss is higher):"
   ]
  },
  {
   "cell_type": "code",
   "execution_count": 17,
   "id": "07f3c778-d88f-4b12-803d-01cbccabd705",
   "metadata": {},
   "outputs": [
    {
     "data": {
      "text/plain": [
       "[1.1405531167984009,\n",
       " 0.920598566532135,\n",
       " 0.8389185070991516,\n",
       " 0.7946209907531738,\n",
       " 0.7232266068458557]"
      ]
     },
     "execution_count": 17,
     "metadata": {},
     "output_type": "execute_result"
    }
   ],
   "source": [
    "results.get()['val_loss']"
   ]
  },
  {
   "cell_type": "markdown",
   "id": "5643c4f5-8fd6-4a2d-aa5d-3cfd8cba2aa2",
   "metadata": {},
   "source": [
    "Now, let's evaluate the model in the Test Dataset, for this, we call the ``evaluate()`` method. This method takes as input an evaluation function. We are using the 'categorical_crossentropy' loss function in our model.\n",
    "This is because we told in the ``YAML`` file that our loss was that exact function. This function can be accessed in ``tf.keras.metrics.categorical_crossentropy``."
   ]
  },
  {
   "cell_type": "code",
   "execution_count": 18,
   "id": "3995cb6e-148c-49b5-8a13-3406fb2f3908",
   "metadata": {},
   "outputs": [
    {
     "name": "stdout",
     "output_type": "stream",
     "text": [
      "94/94 [==============================] - 0s 2ms/step\n"
     ]
    }
   ],
   "source": [
    "error = my_first_model.evaluate(0, tf.keras.metrics.categorical_crossentropy)\n",
    "error_now = np.mean(error)"
   ]
  },
  {
   "cell_type": "markdown",
   "id": "e3d104f4-fda9-406e-9b53-dff6731515bc",
   "metadata": {},
   "source": [
    "We ran before a piece of code that evaluated the model before the fitting process. We can see the difference between the error in pre-training and the error after training:"
   ]
  },
  {
   "cell_type": "code",
   "execution_count": 19,
   "id": "5a9e522b-935c-46bb-a838-aff6e797db13",
   "metadata": {},
   "outputs": [
    {
     "name": "stdout",
     "output_type": "stream",
     "text": [
      "Performance before:\t86.16000366210938\n",
      "Performance after:\t83.5199966430664\n",
      "Difference:\t\t-2.630000114440918\n"
     ]
    }
   ],
   "source": [
    "print(f'Performance before:\\t{round(error_before, 2)}\\nPerformance after:\\t{round(error_now, 2)}\\nDifference:\\t\\t{round(error_now - error_before, 2)}')"
   ]
  },
  {
   "cell_type": "markdown",
   "id": "659e1b0d-fb96-421a-ab3a-d60fe01e794c",
   "metadata": {},
   "source": [
    "We can also predict the output with the ``predict()`` method. Let's take a piece of the Test Database."
   ]
  },
  {
   "cell_type": "code",
   "execution_count": 20,
   "id": "4c3d437a-e88f-448a-a239-5af381c34674",
   "metadata": {},
   "outputs": [
    {
     "name": "stdout",
     "output_type": "stream",
     "text": [
      "1/1 [==============================] - 0s 72ms/step\n",
      "Predictions:\n",
      "\tPredicted: 8 and it was 8.  True\n",
      "\tPredicted: 3 and it was 7.  False\n",
      "\tPredicted: 9 and it was 9.  True\n",
      "\tPredicted: 5 and it was 5.  True\n",
      "\tPredicted: 2 and it was 4.  False\n",
      "\tPredicted: 9 and it was 6.  False\n",
      "\tPredicted: 2 and it was 8.  False\n",
      "\tPredicted: 0 and it was 0.  True\n",
      "\tPredicted: 4 and it was 4.  True\n",
      "\tPredicted: 1 and it was 3.  False\n",
      "\tPredicted: 1 and it was 1.  True\n",
      "\tPredicted: 1 and it was 1.  True\n",
      "\tPredicted: 0 and it was 0.  True\n",
      "\tPredicted: 2 and it was 4.  False\n",
      "\tPredicted: 6 and it was 6.  True\n",
      "\tPredicted: 1 and it was 2.  False\n",
      "\tPredicted: 1 and it was 2.  False\n",
      "\tPredicted: 8 and it was 9.  False\n",
      "\tPredicted: 1 and it was 2.  False\n",
      "\tPredicted: 2 and it was 2.  True\n",
      "Hit rate: 50.0%\n"
     ]
    }
   ],
   "source": [
    "def test_the_model(model, print_all=False, ranged=(0, 20)):\n",
    "    # We take some values from the test dataset:\n",
    "    from_which = ranged[0]\n",
    "    how_many_values = ranged[1]\n",
    "    x, y = model.breech[0].xtest[from_which:from_which + how_many_values], model.breech[0].ytest[from_which:from_which + how_many_values]\n",
    "\n",
    "    # Compute the predictions and get the values with the max, as the output is categorical (no threshold):\n",
    "    pred = model.predict(x)\n",
    "    x_predicted = tf.math.argmax(pred, axis=1).numpy()\n",
    "    y_predicted = tf.math.argmax(y, axis=1).numpy()\n",
    "\n",
    "    # Print the results:\n",
    "    hits = 0\n",
    "    if print_all:\n",
    "        print('Predictions:')\n",
    "    for x_pred, y_pred in zip(x_predicted, y_predicted):\n",
    "        hits += 1 if x_pred == y_pred else 0\n",
    "        if print_all:\n",
    "            print(f'\\tPredicted: {x_pred} and it was {y_pred}. ', x_pred == y_pred)\n",
    "    hrate = 100 * hits/how_many_values\n",
    "    if hrate < 45:\n",
    "        print(f'Hit rate: {hrate}% (very low: minimum is 10%)')\n",
    "        return False\n",
    "    elif 45 <= hrate < 70:\n",
    "        print(f'Hit rate: {hrate}%')\n",
    "        return False\n",
    "    elif 70 <= hrate < 98:\n",
    "        print(f'Hit rate: {hrate}% (nice)')\n",
    "        print('Congratulations, you suceeded!')\n",
    "    else:\n",
    "        print(f'Hit rate: {hrate}% (amazing model!)')\n",
    "        print('Congratulations, you suceeded with amazing performance!')\n",
    "    return True\n",
    "        \n",
    "passed_the_test = test_the_model(my_first_model, print_all=True)"
   ]
  },
  {
   "cell_type": "markdown",
   "id": "87d962cb-d063-466e-96cb-0349c529f31b",
   "metadata": {},
   "source": [
    "### Concatenate two models\n",
    "You can also create a multi-input model with the ``call()`` method or calling the model as a function. The model takes 3 inputs:\n",
    "\n",
    "* Other model: Other BaseNetModel.\n",
    "* Parallel: A boolean telling if the second model is in parallel or is after the first model.\n",
    "* Name: A name for your merged model."
   ]
  },
  {
   "cell_type": "code",
   "execution_count": 21,
   "id": "6ce3b559-7eac-4a42-9e50-1b2e55ee90b7",
   "metadata": {},
   "outputs": [
    {
     "name": "stdout",
     "output_type": "stream",
     "text": [
      "WARNING:tensorflow:There are non-GPU devices in `tf.distribute.Strategy`, not using nccl allreduce.\n",
      "INFO:tensorflow:Using MirroredStrategy with devices ('/job:localhost/replica:0/task:0/device:CPU:0',)\n",
      "WARNING:tensorflow:There are non-GPU devices in `tf.distribute.Strategy`, not using nccl allreduce.\n",
      "INFO:tensorflow:Using MirroredStrategy with devices ('/job:localhost/replica:0/task:0/device:CPU:0',)\n",
      "WARNING:tensorflow:There are non-GPU devices in `tf.distribute.Strategy`, not using nccl allreduce.\n",
      "INFO:tensorflow:Using MirroredStrategy with devices ('/job:localhost/replica:0/task:0/device:CPU:0',)\n",
      "WARNING:tensorflow:There are non-GPU devices in `tf.distribute.Strategy`, not using nccl allreduce.\n",
      "INFO:tensorflow:Using MirroredStrategy with devices ('/job:localhost/replica:0/task:0/device:CPU:0',)\n"
     ]
    },
    {
     "data": {
      "image/png": "[encoded data removed]",
      "text/plain": [
       "<IPython.core.display.Image object>"
      ]
     },
     "execution_count": 21,
     "metadata": {},
     "output_type": "execute_result"
    }
   ],
   "source": [
    "# Build both models:\n",
    "first_model = BaseNetCompiler.build_from_yaml('./compilers/example0.yaml', verbose=True).compile().add_database(mydb)\n",
    "second_model = BaseNetCompiler.build_from_yaml('./compilers/example1.yaml', verbose=True).compile()\n",
    "# Call the first model with ``parallel=True`` argument.\n",
    "first_model(second_model, parallel=True, name='merged_model')\n",
    "# Model printing.\n",
    "first_model.print('./')\n",
    "Image(f\"./{first_model.name}.png\")"
   ]
  },
  {
   "cell_type": "markdown",
   "id": "d38d12aa-8884-484e-9f93-44326a4f1398",
   "metadata": {},
   "source": [
    "And this is how you can do it in series:\n",
    "\n",
    "**Important**: You cannot join a BaseNetModel that was already been concatenated in parallel (because it has no traceback of the parallel layers)."
   ]
  },
  {
   "cell_type": "code",
   "execution_count": 25,
   "id": "8549cc0f-2573-4891-8643-ac5d47ca255e",
   "metadata": {},
   "outputs": [
    {
     "name": "stdout",
     "output_type": "stream",
     "text": [
      "WARNING:tensorflow:There are non-GPU devices in `tf.distribute.Strategy`, not using nccl allreduce.\n"
     ]
    },
    {
     "name": "stderr",
     "output_type": "stream",
     "text": [
      "WARNING:tensorflow:There are non-GPU devices in `tf.distribute.Strategy`, not using nccl allreduce.\n"
     ]
    },
    {
     "name": "stdout",
     "output_type": "stream",
     "text": [
      "INFO:tensorflow:Using MirroredStrategy with devices ('/job:localhost/replica:0/task:0/device:CPU:0',)\n"
     ]
    },
    {
     "name": "stderr",
     "output_type": "stream",
     "text": [
      "INFO:tensorflow:Using MirroredStrategy with devices ('/job:localhost/replica:0/task:0/device:CPU:0',)\n"
     ]
    },
    {
     "name": "stdout",
     "output_type": "stream",
     "text": [
      "WARNING:tensorflow:There are non-GPU devices in `tf.distribute.Strategy`, not using nccl allreduce.\n"
     ]
    },
    {
     "name": "stderr",
     "output_type": "stream",
     "text": [
      "WARNING:tensorflow:There are non-GPU devices in `tf.distribute.Strategy`, not using nccl allreduce.\n"
     ]
    },
    {
     "name": "stdout",
     "output_type": "stream",
     "text": [
      "INFO:tensorflow:Using MirroredStrategy with devices ('/job:localhost/replica:0/task:0/device:CPU:0',)\n"
     ]
    },
    {
     "name": "stderr",
     "output_type": "stream",
     "text": [
      "INFO:tensorflow:Using MirroredStrategy with devices ('/job:localhost/replica:0/task:0/device:CPU:0',)\n"
     ]
    },
    {
     "name": "stdout",
     "output_type": "stream",
     "text": [
      "WARNING:tensorflow:There are non-GPU devices in `tf.distribute.Strategy`, not using nccl allreduce.\n"
     ]
    },
    {
     "name": "stderr",
     "output_type": "stream",
     "text": [
      "WARNING:tensorflow:There are non-GPU devices in `tf.distribute.Strategy`, not using nccl allreduce.\n"
     ]
    },
    {
     "name": "stdout",
     "output_type": "stream",
     "text": [
      "INFO:tensorflow:Using MirroredStrategy with devices ('/job:localhost/replica:0/task:0/device:CPU:0',)\n"
     ]
    },
    {
     "name": "stderr",
     "output_type": "stream",
     "text": [
      "INFO:tensorflow:Using MirroredStrategy with devices ('/job:localhost/replica:0/task:0/device:CPU:0',)\n"
     ]
    },
    {
     "data": {
      "image/png": "[encoded data removed]",
      "text/plain": [
       "<IPython.core.display.Image object>"
      ]
     },
     "execution_count": 25,
     "metadata": {},
     "output_type": "execute_result"
    }
   ],
   "source": [
    "first_model = BaseNetCompiler.build_from_yaml('./compilers/example0.yaml', verbose=True).compile().add_database(mydb)\n",
    "third_model = BaseNetCompiler.build_from_yaml('./compilers/example2.yaml', verbose=True).compile()\n",
    "first_model(third_model, parallel=False, name='merged_model')\n",
    "# Model printing.\n",
    "first_model.print('./')\n",
    "Image(f\"./{first_model.name}.png\")"
   ]
  },
  {
   "cell_type": "markdown",
   "id": "6de952cc-9126-448d-ab78-d34d77478fbf",
   "metadata": {},
   "source": [
    "## Extra:\n",
    "\n",
    "An excercise for this tutorial is to find a good Deep Learning model that achieves a nice performance. A hint for this optional exercise is that the Dataset is the MNIST Dataset. Try the code below and modify only the YAML file:\n",
    "\n",
    "**Hint**: A CNN should work fine! (CNN is implemented with Conv2D, see Keras documentation to build Deep Learning models)\n",
    "\n",
    "The YAML file to modify is in ``\"./exercises/modify_this_yaml.yaml\"``."
   ]
  },
  {
   "cell_type": "code",
   "execution_count": 26,
   "id": "521097d9-1963-4c2d-979c-a59107ae1fbe",
   "metadata": {},
   "outputs": [
    {
     "name": "stdout",
     "output_type": "stream",
     "text": [
      "WARNING:tensorflow:There are non-GPU devices in `tf.distribute.Strategy`, not using nccl allreduce.\n"
     ]
    },
    {
     "name": "stderr",
     "output_type": "stream",
     "text": [
      "WARNING:tensorflow:There are non-GPU devices in `tf.distribute.Strategy`, not using nccl allreduce.\n"
     ]
    },
    {
     "name": "stdout",
     "output_type": "stream",
     "text": [
      "INFO:tensorflow:Using MirroredStrategy with devices ('/job:localhost/replica:0/task:0/device:CPU:0',)\n"
     ]
    },
    {
     "name": "stderr",
     "output_type": "stream",
     "text": [
      "INFO:tensorflow:Using MirroredStrategy with devices ('/job:localhost/replica:0/task:0/device:CPU:0',)\n"
     ]
    },
    {
     "name": "stdout",
     "output_type": "stream",
     "text": [
      "Epoch 1/10\n",
      "282/282 [==============================] - 5s 10ms/step - loss: 7.4985 - val_loss: 1.2638\n",
      "Epoch 2/10\n",
      "282/282 [==============================] - 2s 6ms/step - loss: 1.4724 - val_loss: 0.9419\n",
      "Epoch 3/10\n",
      "282/282 [==============================] - 2s 6ms/step - loss: 1.2219 - val_loss: 0.8307\n",
      "Epoch 4/10\n",
      "282/282 [==============================] - 2s 6ms/step - loss: 1.0663 - val_loss: 0.7091\n",
      "Epoch 5/10\n",
      "282/282 [==============================] - 2s 6ms/step - loss: 0.9549 - val_loss: 0.6438\n",
      "Epoch 6/10\n",
      "282/282 [==============================] - 2s 6ms/step - loss: 0.8651 - val_loss: 0.6174\n",
      "Epoch 7/10\n",
      "282/282 [==============================] - 2s 6ms/step - loss: 0.8154 - val_loss: 0.5391\n",
      "Epoch 8/10\n",
      "282/282 [==============================] - 2s 6ms/step - loss: 0.7762 - val_loss: 0.5374\n",
      "Epoch 9/10\n",
      "282/282 [==============================] - 2s 6ms/step - loss: 0.7350 - val_loss: 0.5435\n",
      "Epoch 10/10\n",
      "282/282 [==============================] - 2s 6ms/step - loss: 0.6964 - val_loss: 0.4985\n",
      "7/7 [==============================] - 1s 2ms/step\n",
      "Hit rate: 40.5% (very low: minimum is 10%)\n"
     ]
    }
   ],
   "source": [
    "# valid_solution = './exercises/valid_solution.yaml' [Goes from 70 - 85 %]\n",
    "# your_exercise = './exercises/modify_this_yaml.yaml' [Goes from 40 - 55 %] Improve it to +70%.\n",
    "# Do not touch this code:\n",
    "def try_your_model(epochs, print_all=False):\n",
    "    modify_this_yaml_path = './exercises/modify_this_yaml.yaml'\n",
    "    new_model = BaseNetCompiler.build_from_yaml(modify_this_yaml_path, verbose=True).compile().add_database(mydb)\n",
    "    new_model.fit(0, epochs=epochs, tensorboard=False)\n",
    "    if test_the_model(new_model, print_all=print_all, ranged=(100, 200)):\n",
    "        new_model.print('./')\n",
    "        print('Congratulations! Your model passed the test.')\n",
    "        return Image(f\"./{new_model.name}.png\")\n",
    "    return None\n",
    "\n",
    "try_your_model(10)"
   ]
  },
  {
   "cell_type": "markdown",
   "id": "e3c0efac-5fa1-44ea-996a-59e91a68d532",
   "metadata": {},
   "source": [
    "You reached the end of the basic-use tutorial. Crongratulations!"
   ]
  }
 ],
 "metadata": {
  "kernelspec": {
   "display_name": "Python 3 (ipykernel)",
   "language": "python",
   "name": "python3"
  },
  "language_info": {
   "codemirror_mode": {
    "name": "ipython",
    "version": 3
   },
   "file_extension": ".py",
   "mimetype": "text/x-python",
   "name": "python",
   "nbconvert_exporter": "python",
   "pygments_lexer": "ipython3",
   "version": "3.9.11"
  }
 },
 "nbformat": 4,
 "nbformat_minor": 5
}
